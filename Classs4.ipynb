{
 "metadata": {
  "name": "",
  "signature": "sha256:5078f668218ed87218cec635588cf286b94dd3dd2ea052460d103cec82e16690"
 },
 "nbformat": 3,
 "nbformat_minor": 0,
 "worksheets": [
  {
   "cells": [
    {
     "cell_type": "heading",
     "level": 2,
     "metadata": {},
     "source": [
      "Lecture 2: Intrest point detection"
     ]
    },
    {
     "cell_type": "markdown",
     "metadata": {},
     "source": [
      "Based on [CAP 5415 - Computer Vision\n",
      "](http://crcv.ucf.edu/courses/CAP5415/Fall2012/index.php), [lecture 3](https://www.youtube.com/watch?v=_qgKQGsuKeQ&feature=plcp)"
     ]
    },
    {
     "cell_type": "code",
     "collapsed": false,
     "input": [
      "from IPython.display import YouTubeVideo\n",
      "YouTubeVideo(\"_qgKQGsuKeQ\")\n"
     ],
     "language": "python",
     "metadata": {},
     "outputs": [
      {
       "html": [
        "\n",
        "        <iframe\n",
        "            width=\"400\"\n",
        "            height=300\"\n",
        "            src=\"https://www.youtube.com/embed/_qgKQGsuKeQ\"\n",
        "            frameborder=\"0\"\n",
        "            allowfullscreen\n",
        "        ></iframe>\n",
        "        "
       ],
       "metadata": {},
       "output_type": "pyout",
       "prompt_number": 1,
       "text": [
        "<IPython.lib.display.YouTubeVideo at 0x7f3fe80c22d0>"
       ]
      }
     ],
     "prompt_number": 1
    },
    {
     "cell_type": "heading",
     "level": 2,
     "metadata": {},
     "source": [
      "Perliminary"
     ]
    },
    {
     "cell_type": "code",
     "collapsed": false,
     "input": [
      "from pylab import * \n",
      "import pylab\n",
      "%matplotlib inline\n",
      "pylab.gray()"
     ],
     "language": "python",
     "metadata": {},
     "outputs": [
      {
       "metadata": {},
       "output_type": "display_data",
       "text": [
        "<matplotlib.figure.Figure at 0x7f3fc7142350>"
       ]
      }
     ],
     "prompt_number": 3
    },
    {
     "cell_type": "code",
     "collapsed": false,
     "input": [
      "import itertools"
     ],
     "language": "python",
     "metadata": {},
     "outputs": [],
     "prompt_number": 4
    },
    {
     "cell_type": "code",
     "collapsed": false,
     "input": [
      "import scipy.misc\n",
      "lena = scipy.misc.lena()\n",
      "lena_color = imread(\"lena_color.jpg\")\n"
     ],
     "language": "python",
     "metadata": {},
     "outputs": [],
     "prompt_number": 5
    },
    {
     "cell_type": "code",
     "collapsed": false,
     "input": [
      "import scipy.signal\n",
      "scipy.signal.correlate2d(lena,lena)"
     ],
     "language": "python",
     "metadata": {},
     "outputs": [
      {
       "metadata": {},
       "output_type": "pyout",
       "prompt_number": 9,
       "text": [
        "array([[ 17496,  34506,  51354, ...,  21340,  12452,   5632],\n",
        "       [ 34992,  69012, 102708, ...,  42680,  24904,  11264],\n",
        "       [ 50868, 101088, 151632, ...,  63055,  37073,  16768],\n",
        "       ..., \n",
        "       [ 16768,  37073,  63055, ..., 151632, 101088,  50868],\n",
        "       [ 11264,  24904,  42680, ..., 102708,  69012,  34992],\n",
        "       [  5632,  12452,  21340, ...,  51354,  34506,  17496]])"
       ]
      }
     ],
     "prompt_number": 9
    },
    {
     "cell_type": "markdown",
     "metadata": {},
     "source": [
      "Sum of squeres Difference (SSD)\n",
      "$$ {\\rm SSD}\\left(i,j\\right)\t=\t\\sum_{k,\\ell}\\left(f\\left(k,\\ell\\right)-h\\left(i+k,j+\\ell\\right)\\right)^{2} $$\n",
      "\n",
      "$$\t\\propto\t\\sum_{k,\\ell}-2h\\left(i+k\\right)\\left(j+\\ell\\right)f\\left(k,\\ell\\right) $$\n",
      "$$\\max{\\rm SSD}\t\\implies\t\\min\\sum_{k\\ell}2h\\left(i+j,j+\\ell\\right)f\\left(k,\\ell\\right)={\\rm Correlation}\n",
      "  $$"
     ]
    },
    {
     "cell_type": "code",
     "collapsed": false,
     "input": [],
     "language": "python",
     "metadata": {},
     "outputs": []
    }
   ],
   "metadata": {}
  }
 ]
}